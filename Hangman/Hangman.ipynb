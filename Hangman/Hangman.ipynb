{
  "nbformat": 4,
  "nbformat_minor": 0,
  "metadata": {
    "colab": {
      "name": "Hangman.ipynb",
      "provenance": []
    },
    "kernelspec": {
      "name": "python3",
      "display_name": "Python 3"
    },
    "language_info": {
      "name": "python"
    }
  },
  "cells": [
    {
      "cell_type": "code",
      "execution_count": 2,
      "metadata": {
        "colab": {
          "base_uri": "https://localhost:8080/",
          "height": 374
        },
        "id": "3KlzRWg3DYHV",
        "outputId": "e65ac1a2-fec9-4f03-992d-fe788028a24e"
      },
      "outputs": [
        {
          "output_type": "error",
          "ename": "ModuleNotFoundError",
          "evalue": "ignored",
          "traceback": [
            "\u001b[0;31m---------------------------------------------------------------------------\u001b[0m",
            "\u001b[0;31mModuleNotFoundError\u001b[0m                       Traceback (most recent call last)",
            "\u001b[0;32m<ipython-input-2-808c41cdfdae>\u001b[0m in \u001b[0;36m<module>\u001b[0;34m()\u001b[0m\n\u001b[0;32m----> 1\u001b[0;31m \u001b[0;32mfrom\u001b[0m \u001b[0mhangman_functions\u001b[0m \u001b[0;32mimport\u001b[0m \u001b[0;34m*\u001b[0m\u001b[0;34m\u001b[0m\u001b[0;34m\u001b[0m\u001b[0m\n\u001b[0m\u001b[1;32m      2\u001b[0m \u001b[0;32mfrom\u001b[0m \u001b[0mhangman_drawings\u001b[0m \u001b[0;32mimport\u001b[0m \u001b[0;34m*\u001b[0m\u001b[0;34m\u001b[0m\u001b[0;34m\u001b[0m\u001b[0m\n\u001b[1;32m      3\u001b[0m \u001b[0;34m\u001b[0m\u001b[0m\n\u001b[1;32m      4\u001b[0m \u001b[0mword\u001b[0m \u001b[0;34m=\u001b[0m \u001b[0mword_selection\u001b[0m\u001b[0;34m(\u001b[0m\u001b[0mwords_list\u001b[0m\u001b[0;34m)\u001b[0m\u001b[0;34m\u001b[0m\u001b[0;34m\u001b[0m\u001b[0m\n\u001b[1;32m      5\u001b[0m \u001b[0mprint\u001b[0m\u001b[0;34m(\u001b[0m\u001b[0mword\u001b[0m\u001b[0;34m)\u001b[0m\u001b[0;34m\u001b[0m\u001b[0;34m\u001b[0m\u001b[0m\n",
            "\u001b[0;31mModuleNotFoundError\u001b[0m: No module named 'hangman_functions'",
            "",
            "\u001b[0;31m---------------------------------------------------------------------------\u001b[0;32m\nNOTE: If your import is failing due to a missing package, you can\nmanually install dependencies using either !pip or !apt.\n\nTo view examples of installing some common dependencies, click the\n\"Open Examples\" button below.\n\u001b[0;31m---------------------------------------------------------------------------\u001b[0m\n"
          ],
          "errorDetails": {
            "actions": [
              {
                "action": "open_url",
                "actionText": "Open Examples",
                "url": "/notebooks/snippets/importing_libraries.ipynb"
              }
            ]
          }
        }
      ],
      "source": [
        "from hangman_functions import * \n",
        "from hangman_drawings import *\n",
        "\n",
        "word = word_selection(words_list)\n",
        "print(word)\n",
        "length = word_length(word)\n",
        "shape = length * word_shape()\n",
        "attemps=0\n",
        "letters = []\n",
        "\n",
        "while attemps < 12 :\n",
        "    print(shape)\n",
        "    if len(letters) > 0:\n",
        "        print(f\"\"\"Les lettres déjà utilisées sont:\n",
        "        {letters}\"\"\")\n",
        "    letter = input(\"Enter a letter :\").lower()\n",
        "    result = letter_found(word,letter,shape)\n",
        "    if letter not in  letters and letter.isalpha() and len(letter) == 1:\n",
        "        shape = letter_found(word,letter,shape)\n",
        "        letters.append(letter)\n",
        "        if letter in shape:\n",
        "            print(\"BRAVO !\")\n",
        "            if shape==word:\n",
        "              attemps=12\n",
        "              print(f\"vous avez trouvé le mot correct ({shape})\")\n",
        "      \n",
        "        else:\n",
        "            print(\"DOMMAGE !!\")\n",
        "            attemps += 1\n",
        "            drawing_number(attemp)\n",
        "    else:\n",
        "        print(\"ERROR !\")\n",
        "        \n",
        "        \n",
        "        \n",
        "\n",
        "\n",
        "\n"
      ]
    }
  ]
}